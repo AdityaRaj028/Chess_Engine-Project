{
  "nbformat": 4,
  "nbformat_minor": 0,
  "metadata": {
    "colab": {
      "name": "The To Network.ipynb",
      "provenance": []
    },
    "kernelspec": {
      "name": "python3",
      "display_name": "Python 3"
    },
    "language_info": {
      "name": "python"
    },
    "accelerator": "GPU"
  },
  "cells": [
    {
      "cell_type": "code",
      "metadata": {
        "colab": {
          "base_uri": "https://localhost:8080/"
        },
        "id": "QLeyBPpDAitT",
        "outputId": "8ec181ad-027c-4e75-d3db-743a62dec5ad"
      },
      "source": [
        "%tensorflow_version 2.x\n",
        "import tensorflow as tf\n",
        "print(\"Tensorflow version \" + tf.__version__)"
      ],
      "execution_count": 1,
      "outputs": [
        {
          "output_type": "stream",
          "text": [
            "Tensorflow version 2.4.1\n"
          ],
          "name": "stdout"
        }
      ]
    },
    {
      "cell_type": "code",
      "metadata": {
        "colab": {
          "base_uri": "https://localhost:8080/"
        },
        "id": "5I3P2ZNhBBHs",
        "outputId": "6b004b88-6bfb-4d7c-db34-4280c4958c4b"
      },
      "source": [
        "device_name = tf.test.gpu_device_name()\n",
        "if device_name != '/device:GPU:0':\n",
        "  raise SystemError('GPU device not found')\n",
        "print('Found GPU at: {}'.format(device_name))"
      ],
      "execution_count": 2,
      "outputs": [
        {
          "output_type": "stream",
          "text": [
            "Found GPU at: /device:GPU:0\n"
          ],
          "name": "stdout"
        }
      ]
    },
    {
      "cell_type": "code",
      "metadata": {
        "colab": {
          "base_uri": "https://localhost:8080/"
        },
        "id": "UjuafivNBFiR",
        "outputId": "82ca3095-5684-45e3-f9ff-ad5774905fd3"
      },
      "source": [
        "from tensorflow.python.client import device_lib\n",
        "device_lib.list_local_devices()"
      ],
      "execution_count": 3,
      "outputs": [
        {
          "output_type": "execute_result",
          "data": {
            "text/plain": [
              "[name: \"/device:CPU:0\"\n",
              " device_type: \"CPU\"\n",
              " memory_limit: 268435456\n",
              " locality {\n",
              " }\n",
              " incarnation: 18213043996116014587, name: \"/device:GPU:0\"\n",
              " device_type: \"GPU\"\n",
              " memory_limit: 14674281152\n",
              " locality {\n",
              "   bus_id: 1\n",
              "   links {\n",
              "   }\n",
              " }\n",
              " incarnation: 12692745579004147398\n",
              " physical_device_desc: \"device: 0, name: Tesla T4, pci bus id: 0000:00:04.0, compute capability: 7.5\"]"
            ]
          },
          "metadata": {
            "tags": []
          },
          "execution_count": 3
        }
      ]
    },
    {
      "cell_type": "code",
      "metadata": {
        "id": "wFalFwQPBKef"
      },
      "source": [
        "import numpy as np\n",
        "import pandas as pd\n",
        "import matplotlib.pyplot as plt\n",
        "import os \n",
        "from collections import Counter\n",
        "import itertools\n",
        "import shutil\n",
        "import random\n",
        "import glob\n",
        "import warnings\n",
        "warnings.simplefilter(action = 'ignore', category = FutureWarning)\n",
        "%matplotlib inline"
      ],
      "execution_count": 4,
      "outputs": []
    },
    {
      "cell_type": "code",
      "metadata": {
        "colab": {
          "base_uri": "https://localhost:8080/"
        },
        "id": "6mll4e_VBQfO",
        "outputId": "aa968a44-e9e1-4dcf-94c1-f4e3f7e3553c"
      },
      "source": [
        "!pip install python-chess"
      ],
      "execution_count": 5,
      "outputs": [
        {
          "output_type": "stream",
          "text": [
            "Requirement already satisfied: python-chess in /usr/local/lib/python3.7/dist-packages (0.23.11)\n"
          ],
          "name": "stdout"
        }
      ]
    },
    {
      "cell_type": "code",
      "metadata": {
        "colab": {
          "base_uri": "https://localhost:8080/"
        },
        "id": "hG4gl-SwBU3A",
        "outputId": "a3fc3cb2-8501-4a05-f974-a86916ed7f66"
      },
      "source": [
        "!pip install \"python_chess==0.30.1\""
      ],
      "execution_count": 6,
      "outputs": [
        {
          "output_type": "stream",
          "text": [
            "Collecting python_chess==0.30.1\n",
            "\u001b[?25l  Downloading https://files.pythonhosted.org/packages/80/ff/0564c3086fbccf4e4c96acd6247b2eb4fe336a5118d3406e430f1c833644/python_chess-0.30.1-py3-none-any.whl (128kB)\n",
            "\r\u001b[K     |██▋                             | 10kB 17.7MB/s eta 0:00:01\r\u001b[K     |█████▏                          | 20kB 19.4MB/s eta 0:00:01\r\u001b[K     |███████▊                        | 30kB 15.8MB/s eta 0:00:01\r\u001b[K     |██████████▎                     | 40kB 14.1MB/s eta 0:00:01\r\u001b[K     |████████████▉                   | 51kB 9.8MB/s eta 0:00:01\r\u001b[K     |███████████████▍                | 61kB 11.3MB/s eta 0:00:01\r\u001b[K     |██████████████████              | 71kB 10.3MB/s eta 0:00:01\r\u001b[K     |████████████████████▌           | 81kB 11.3MB/s eta 0:00:01\r\u001b[K     |███████████████████████         | 92kB 10.0MB/s eta 0:00:01\r\u001b[K     |█████████████████████████▋      | 102kB 9.3MB/s eta 0:00:01\r\u001b[K     |████████████████████████████▏   | 112kB 9.3MB/s eta 0:00:01\r\u001b[K     |██████████████████████████████▊ | 122kB 9.3MB/s eta 0:00:01\r\u001b[K     |████████████████████████████████| 133kB 9.3MB/s \n",
            "\u001b[?25hInstalling collected packages: python-chess\n",
            "  Found existing installation: python-chess 0.23.11\n",
            "    Uninstalling python-chess-0.23.11:\n",
            "      Successfully uninstalled python-chess-0.23.11\n",
            "Successfully installed python-chess-0.30.1\n"
          ],
          "name": "stdout"
        }
      ]
    },
    {
      "cell_type": "code",
      "metadata": {
        "id": "wl4ZrUa3Bgc1"
      },
      "source": [
        "import chess\n",
        "import chess.pgn"
      ],
      "execution_count": 7,
      "outputs": []
    },
    {
      "cell_type": "code",
      "metadata": {
        "colab": {
          "base_uri": "https://localhost:8080/"
        },
        "id": "6FeDnvRfBnue",
        "outputId": "8ae8b275-7fb1-4fa8-a9f4-83a2afc651c3"
      },
      "source": [
        "from google.colab import drive\n",
        "drive.mount('/content/Pdrive')"
      ],
      "execution_count": 8,
      "outputs": [
        {
          "output_type": "stream",
          "text": [
            "Mounted at /content/Pdrive\n"
          ],
          "name": "stdout"
        }
      ]
    },
    {
      "cell_type": "code",
      "metadata": {
        "id": "Yn9aJDTRBrO1"
      },
      "source": [
        "find_num = {'a1': chess.A1, 'a2': chess.A2, 'a3': chess.A3, 'a4': chess.A4, 'a5': chess.A5, 'a6': chess.A6, 'a7': chess.A7,\n",
        "            'a8': chess.A8, 'b1': chess.B1, 'b2': chess.B2, 'b3': chess.B3, 'b4': chess.B4, 'b5': chess.B5, 'b6': chess.B6,\n",
        "            'b7': chess.B7, 'b8': chess.B8, 'c1': chess.C1, 'c2': chess.C2, 'c3': chess.C3, 'c4': chess.C4, 'c5': chess.C5,\n",
        "            'c6': chess.C6, 'c7': chess.C7, 'c8': chess.C8, 'd1': chess.D1, 'd2': chess.D2, 'd3': chess.D3, 'd4': chess.D4, \n",
        "            'd5': chess.D5, 'd6': chess.D6, 'd7': chess.D7, 'd8': chess.D8, 'e1': chess.E1, 'e2': chess.E2, 'e3': chess.E3,\n",
        "            'e4': chess.E4, 'e5': chess.E5, 'e6': chess.E6, 'e7': chess.E7, 'e8': chess.E8, 'f1': chess.F1, 'f2': chess.F2,\n",
        "            'f3': chess.F3, 'f4': chess.F4, 'f5': chess.F5, 'f6': chess.F6, 'f7': chess.F7, 'f8': chess.F8, 'g1': chess.G1,\n",
        "            'g2': chess.G2, 'g3': chess.G3, 'g4': chess.G4, 'g5': chess.G5, 'g6': chess.G6, 'g7': chess.G7, 'g8': chess.G8,\n",
        "            'h1': chess.H1, 'h2': chess.H2, 'h3': chess.H3, 'h4': chess.H4, 'h5': chess.H5, 'h6': chess.H6, 'h7': chess.H7,\n",
        "            'h8': chess.H8}\n",
        "        "
      ],
      "execution_count": 9,
      "outputs": []
    },
    {
      "cell_type": "code",
      "metadata": {
        "id": "8E3Rw78TB05q"
      },
      "source": [
        "def data_augment(list_in, str_from): \n",
        "    \n",
        "    # augments the board position when it's black's turn to make it appear as if it's white's turn.\n",
        "    # for this, we just need to rotate the board by 180 degrees anti-clock and flip the color of all the pieces.\n",
        "    \n",
        "    list_out = ['null', 'null', 'null', 'null', 'null', 'null', 'null', 'null']\n",
        "    \n",
        "    var = 7\n",
        "    \n",
        "    if len(list_in) == 8:\n",
        "        \n",
        "        for el in list_in:\n",
        "            el_rev = el[::-1]\n",
        "            fin = \"\"\n",
        "            for char in el_rev:\n",
        "                if char.isalpha():\n",
        "                    if char.islower():\n",
        "                        fin += char.upper()\n",
        "                    elif char.isupper():\n",
        "                        fin += char.lower()\n",
        "                elif char.isdigit():\n",
        "                    fin += char\n",
        "            \n",
        "            list_out[var] = fin\n",
        "            var = var - 1\n",
        "              \n",
        "    else:\n",
        "        print('Error: List not compatible')\n",
        "    \n",
        "    fin1 = \"\"\n",
        "    \n",
        "    alpha = list(str_from)\n",
        "    fin1 += chr(8 - ord(alpha[0]) + ord('a') -1 + 97)\n",
        "    fin1 += str(9 - int(alpha[1]))\n",
        "    num = find_num[fin1]\n",
        "    \n",
        "    return list_out, num"
      ],
      "execution_count": 10,
      "outputs": []
    },
    {
      "cell_type": "code",
      "metadata": {
        "id": "w0pW1I6CB3rL"
      },
      "source": [
        "def count_total_moves(game):\n",
        "    \n",
        "    # counts total number of moves of any game.\n",
        "    \n",
        "    count = 0\n",
        "    for posn in game.mainline():\n",
        "        count += 1 \n",
        "    \n",
        "    return count"
      ],
      "execution_count": 11,
      "outputs": []
    },
    {
      "cell_type": "code",
      "metadata": {
        "id": "F5lzOsLQB59d"
      },
      "source": [
        "def fen_to_matrix(string_fen, string_move):\n",
        "    \n",
        "    # for a given board in FEN notation, it converts that to a corresponding 8x8x6 matrix board along with it's output label.\n",
        "    # The output label can be the position from where move was made or the position to where the move was made. It'll be a\n",
        "    # number between 0 to 63 corresponding to the given string- string_move.\n",
        "    \n",
        "    board_matrix = np.zeros((8, 8, 6))\n",
        "    \n",
        "    fen_list = string_fen.split(\" \")[0].split(\"/\")\n",
        "    val_ = 0\n",
        "    \n",
        "    for x in fen_list:\n",
        "        temp_s = \"\"\n",
        "        for y in x:\n",
        "            if y.isalpha():\n",
        "                temp_s += y\n",
        "            elif y.isdigit():\n",
        "                for al_ in range(int(y)):\n",
        "                    temp_s += y\n",
        "                    \n",
        "        fen_list[val_] = temp_s\n",
        "        val_ += 1  \n",
        "        \n",
        "    next_ = string_fen.split(\" \")[1]\n",
        "    \n",
        "    \n",
        "    \n",
        "    if next_ == \"w\":\n",
        "        label = find_num[string_move]\n",
        "        \n",
        "        for i in range(len(fen_list)):\n",
        "            for j in range(len(fen_list[i])):\n",
        "                if fen_list[i][j].isalpha():\n",
        "                    board_matrix[i, j, notation[fen_list[i][j]][0]] = notation[fen_list[i][j]][1]    \n",
        "    elif next_ == \"b\":\n",
        "        fen_list, label = data_augment(fen_list, string_move)\n",
        "        \n",
        "        for i in range(len(fen_list)):\n",
        "            for j in range(len(fen_list[i])):\n",
        "                if fen_list[i][j].isalpha():\n",
        "                    board_matrix[i, j, notation[fen_list[i][j]][0]] = notation[fen_list[i][j]][1]\n",
        "                    \n",
        "    \n",
        "    return board_matrix, label"
      ],
      "execution_count": 12,
      "outputs": []
    },
    {
      "cell_type": "code",
      "metadata": {
        "id": "FQ4HTaLjB8gD"
      },
      "source": [
        "from sklearn.preprocessing import LabelEncoder\n",
        "from sklearn.model_selection import StratifiedKFold\n",
        "from collections import Counter"
      ],
      "execution_count": 13,
      "outputs": []
    },
    {
      "cell_type": "code",
      "metadata": {
        "id": "ueQvmK6WB-8f"
      },
      "source": [
        "def encoding_label(y_in):\n",
        "    \n",
        "    # encodes the output vector (from 0 to 63 in our case) \n",
        "    \n",
        "    encoder = LabelEncoder()\n",
        "    encoder.fit(y_in)\n",
        "    encoded_y = encoder.transform(y_in)\n",
        "    \n",
        "    return encoded_y"
      ],
      "execution_count": 14,
      "outputs": []
    },
    {
      "cell_type": "code",
      "metadata": {
        "id": "MfjgrLx_CBNi"
      },
      "source": [
        "def tt_split(Xin, yin):\n",
        "    \n",
        "    # does train-test split using stratified KFold cross validation method.\n",
        "    \n",
        "    skf = StratifiedKFold(n_splits = 5, shuffle = True, random_state = 1)    # 80% - 20% split.\n",
        "    \n",
        "    skf.get_n_splits(Xin, yin)\n",
        "    \n",
        "    for train_index, test_index in skf.split(Xin, yin):\n",
        "        X_train, X_test = Xin[train_index], Xin[test_index]\n",
        "        y_train, y_test = yin[train_index], yin[test_index]\n",
        "        \n",
        "    return X_train, X_test, y_train, y_test"
      ],
      "execution_count": 15,
      "outputs": []
    },
    {
      "cell_type": "code",
      "metadata": {
        "id": "2Oi-9tpwCEWq"
      },
      "source": [
        "path = '/content/Pdrive/MyDrive/Colab Notebooks/FICS_Database.pgn'\n",
        "file_op = open(path)"
      ],
      "execution_count": 16,
      "outputs": []
    },
    {
      "cell_type": "code",
      "metadata": {
        "id": "Jz-AcpXKCI5s"
      },
      "source": [
        "list_games = []\n",
        "\n",
        "while True:\n",
        "    readd = chess.pgn.read_game(file_op)\n",
        "    if readd is None:\n",
        "        break\n",
        "    \n",
        "    list_games.append(readd)"
      ],
      "execution_count": 17,
      "outputs": []
    },
    {
      "cell_type": "code",
      "metadata": {
        "colab": {
          "base_uri": "https://localhost:8080/"
        },
        "id": "lH75ntR-CLmW",
        "outputId": "726f0c40-e785-40c3-c16c-6fd80ec71d51"
      },
      "source": [
        "print(len(list_games))  # total 5794 games have been taken as the dataset. Each game would contain 60-160 moves on an avg."
      ],
      "execution_count": 18,
      "outputs": [
        {
          "output_type": "stream",
          "text": [
            "5794\n"
          ],
          "name": "stdout"
        }
      ]
    },
    {
      "cell_type": "code",
      "metadata": {
        "id": "dUbAHNrECZGV"
      },
      "source": [
        "notation = {'p': (0, -1),\n",
        "            'n': (1, -1),\n",
        "            'b': (2, -1),\n",
        "            'r': (3, -1),\n",
        "            'q': (4, -1),\n",
        "            'k': (5, -1),\n",
        "            'P': (0, 1),\n",
        "            'N': (1, 1),\n",
        "            'B': (2, 1),\n",
        "            'R': (3, 1),\n",
        "            'Q': (4, 1),\n",
        "            'K': (5, 1)\n",
        "             }"
      ],
      "execution_count": 19,
      "outputs": []
    },
    {
      "cell_type": "code",
      "metadata": {
        "id": "D-Llod3UCbrP"
      },
      "source": [
        "# preparing dataset for the 'to CNN'\n",
        "\n",
        "boards_list_to = []\n",
        "moves_list_to = []\n",
        "\n",
        "for gm_to in list_games:\n",
        "    reg1_to = 0\n",
        "    reg2_to = 0\n",
        "    countt_to = count_total_moves(gm_to)\n",
        "    moves_list_temp_to = []\n",
        "    \n",
        "    for pos_to in gm_to.mainline():\n",
        "        reg1_to += 1\n",
        "        if reg1_to!=1:\n",
        "            moves_list_temp_to.append(str(pos_to.move)[2] + str(pos_to.move)[3]) # the position was appended to where the move\n",
        "                                                                                                                   # was made\n",
        "    for posi_to in gm_to.mainline():\n",
        "        reg2_to += 1\n",
        "        if reg2_to!=countt_to:\n",
        "            gamma0_to, gamma1_to = fen_to_matrix(posi_to.board().fen(), moves_list_temp_to[reg2_to-1])\n",
        "            boards_list_to.append(gamma0_to)\n",
        "            moves_list_to.append(gamma1_to)\n",
        "                "
      ],
      "execution_count": 20,
      "outputs": []
    },
    {
      "cell_type": "code",
      "metadata": {
        "id": "HleGolzJCeVq"
      },
      "source": [
        "y_toCNN = np.array(moves_list_to)"
      ],
      "execution_count": 21,
      "outputs": []
    },
    {
      "cell_type": "code",
      "metadata": {
        "id": "7q3nKoi2CkSJ"
      },
      "source": [
        "# Encoding the labels (or the possible outputs) using the above-made function.\n",
        "\n",
        "y_test_to = encoding_label(y_toCNN)"
      ],
      "execution_count": 22,
      "outputs": []
    },
    {
      "cell_type": "code",
      "metadata": {
        "id": "RhZM5YWXCnSd"
      },
      "source": [
        "# Train-Test split:\n",
        "\n",
        "X_train_to, X_test_to, y_train_to, y_test_to = tt_split(np.array(boards_list_to), y_test_to)"
      ],
      "execution_count": 23,
      "outputs": []
    },
    {
      "cell_type": "code",
      "metadata": {
        "id": "7HD2MlhQCqEq"
      },
      "source": [
        "from tensorflow.keras.models import Sequential\n",
        "from tensorflow.keras.layers import Dense, Conv2D, Flatten, Dropout, Activation, BatchNormalization\n",
        "from tensorflow.keras.optimizers import Adam\n",
        "from tensorflow.keras.metrics import categorical_crossentropy\n",
        "from tensorflow.keras.regularizers import l1, l2, l1_l2"
      ],
      "execution_count": 24,
      "outputs": []
    },
    {
      "cell_type": "code",
      "metadata": {
        "colab": {
          "base_uri": "https://localhost:8080/"
        },
        "id": "0Ckd803ICs5z",
        "outputId": "1298c740-2344-4e1b-b798-b2019a039c81"
      },
      "source": [
        "model = Sequential()\n",
        "model.add(Conv2D(filters = 32, kernel_size = (2, 2), activation = 'elu', kernel_regularizer = l2(0.000005), input_shape = (8, 8, 6)))\n",
        "model.add(BatchNormalization())\n",
        "model.add(Dropout(0.15))\n",
        "model.add(Conv2D(filters = 64, kernel_size = (3, 3), activation = 'elu', kernel_regularizer = l2(0.000005)))\n",
        "model.add(BatchNormalization())\n",
        "model.add(Dropout(0.15))\n",
        "model.add(Conv2D(filters = 128, kernel_size = (3, 3), activation = 'elu', kernel_regularizer = l2(0.000005)))\n",
        "model.add(BatchNormalization())\n",
        "model.add(Dropout(0.2))\n",
        "model.add(Flatten())\n",
        "model.add(Dense(units = 32, activation = 'relu'))\n",
        "model.add(BatchNormalization())\n",
        "model.add(Dense(units = 64, activation = 'softmax'))\n",
        "\n",
        "model.summary()"
      ],
      "execution_count": 27,
      "outputs": [
        {
          "output_type": "stream",
          "text": [
            "Model: \"sequential_1\"\n",
            "_________________________________________________________________\n",
            "Layer (type)                 Output Shape              Param #   \n",
            "=================================================================\n",
            "conv2d_3 (Conv2D)            (None, 7, 7, 32)          800       \n",
            "_________________________________________________________________\n",
            "batch_normalization_4 (Batch (None, 7, 7, 32)          128       \n",
            "_________________________________________________________________\n",
            "dropout_3 (Dropout)          (None, 7, 7, 32)          0         \n",
            "_________________________________________________________________\n",
            "conv2d_4 (Conv2D)            (None, 5, 5, 64)          18496     \n",
            "_________________________________________________________________\n",
            "batch_normalization_5 (Batch (None, 5, 5, 64)          256       \n",
            "_________________________________________________________________\n",
            "dropout_4 (Dropout)          (None, 5, 5, 64)          0         \n",
            "_________________________________________________________________\n",
            "conv2d_5 (Conv2D)            (None, 3, 3, 128)         73856     \n",
            "_________________________________________________________________\n",
            "batch_normalization_6 (Batch (None, 3, 3, 128)         512       \n",
            "_________________________________________________________________\n",
            "dropout_5 (Dropout)          (None, 3, 3, 128)         0         \n",
            "_________________________________________________________________\n",
            "flatten_1 (Flatten)          (None, 1152)              0         \n",
            "_________________________________________________________________\n",
            "dense_2 (Dense)              (None, 32)                36896     \n",
            "_________________________________________________________________\n",
            "batch_normalization_7 (Batch (None, 32)                128       \n",
            "_________________________________________________________________\n",
            "dense_3 (Dense)              (None, 64)                2112      \n",
            "=================================================================\n",
            "Total params: 133,184\n",
            "Trainable params: 132,672\n",
            "Non-trainable params: 512\n",
            "_________________________________________________________________\n"
          ],
          "name": "stdout"
        }
      ]
    },
    {
      "cell_type": "code",
      "metadata": {
        "colab": {
          "base_uri": "https://localhost:8080/"
        },
        "id": "1BJN8FiDCxQl",
        "outputId": "18a4cba7-cda1-4852-ce6c-c93b1adb16a3"
      },
      "source": [
        "model.compile(optimizer = Adam(learning_rate = 0.0001), loss = 'sparse_categorical_crossentropy', metrics = ['accuracy'])\n",
        "model.fit(x = X_train_to, y = y_train_to, batch_size = 128, epochs = 60)"
      ],
      "execution_count": 28,
      "outputs": [
        {
          "output_type": "stream",
          "text": [
            "Epoch 1/60\n",
            "5041/5041 [==============================] - 24s 5ms/step - loss: 3.9375 - accuracy: 0.0791\n",
            "Epoch 2/60\n",
            "5041/5041 [==============================] - 23s 5ms/step - loss: 3.4242 - accuracy: 0.1546\n",
            "Epoch 3/60\n",
            "5041/5041 [==============================] - 23s 5ms/step - loss: 3.2619 - accuracy: 0.1791\n",
            "Epoch 4/60\n",
            "5041/5041 [==============================] - 23s 5ms/step - loss: 3.1780 - accuracy: 0.1907\n",
            "Epoch 5/60\n",
            "5041/5041 [==============================] - 23s 5ms/step - loss: 3.1213 - accuracy: 0.1995\n",
            "Epoch 6/60\n",
            "5041/5041 [==============================] - 23s 5ms/step - loss: 3.0851 - accuracy: 0.2041\n",
            "Epoch 7/60\n",
            "5041/5041 [==============================] - 23s 5ms/step - loss: 3.0567 - accuracy: 0.2086\n",
            "Epoch 8/60\n",
            "5041/5041 [==============================] - 23s 5ms/step - loss: 3.0321 - accuracy: 0.2126\n",
            "Epoch 9/60\n",
            "5041/5041 [==============================] - 23s 5ms/step - loss: 3.0096 - accuracy: 0.2160\n",
            "Epoch 10/60\n",
            "5041/5041 [==============================] - 23s 5ms/step - loss: 2.9959 - accuracy: 0.2175\n",
            "Epoch 11/60\n",
            "5041/5041 [==============================] - 23s 5ms/step - loss: 2.9783 - accuracy: 0.2215\n",
            "Epoch 12/60\n",
            "5041/5041 [==============================] - 23s 5ms/step - loss: 2.9679 - accuracy: 0.2235\n",
            "Epoch 13/60\n",
            "5041/5041 [==============================] - 23s 5ms/step - loss: 2.9542 - accuracy: 0.2259\n",
            "Epoch 14/60\n",
            "5041/5041 [==============================] - 23s 5ms/step - loss: 2.9435 - accuracy: 0.2265\n",
            "Epoch 15/60\n",
            "5041/5041 [==============================] - 23s 5ms/step - loss: 2.9347 - accuracy: 0.2280\n",
            "Epoch 16/60\n",
            "5041/5041 [==============================] - 23s 5ms/step - loss: 2.9266 - accuracy: 0.2307\n",
            "Epoch 17/60\n",
            "5041/5041 [==============================] - 23s 4ms/step - loss: 2.9212 - accuracy: 0.2313\n",
            "Epoch 18/60\n",
            "5041/5041 [==============================] - 23s 5ms/step - loss: 2.9141 - accuracy: 0.2322\n",
            "Epoch 19/60\n",
            "5041/5041 [==============================] - 23s 5ms/step - loss: 2.9065 - accuracy: 0.2334\n",
            "Epoch 20/60\n",
            "5041/5041 [==============================] - 23s 5ms/step - loss: 2.9009 - accuracy: 0.2340\n",
            "Epoch 21/60\n",
            "5041/5041 [==============================] - 23s 4ms/step - loss: 2.8939 - accuracy: 0.2352\n",
            "Epoch 22/60\n",
            "5041/5041 [==============================] - 23s 4ms/step - loss: 2.8904 - accuracy: 0.2360\n",
            "Epoch 23/60\n",
            "5041/5041 [==============================] - 23s 5ms/step - loss: 2.8858 - accuracy: 0.2370\n",
            "Epoch 24/60\n",
            "5041/5041 [==============================] - 23s 5ms/step - loss: 2.8775 - accuracy: 0.2391\n",
            "Epoch 25/60\n",
            "5041/5041 [==============================] - 23s 5ms/step - loss: 2.8763 - accuracy: 0.2387\n",
            "Epoch 26/60\n",
            "5041/5041 [==============================] - 24s 5ms/step - loss: 2.8747 - accuracy: 0.2386\n",
            "Epoch 27/60\n",
            "5041/5041 [==============================] - 24s 5ms/step - loss: 2.8658 - accuracy: 0.2400\n",
            "Epoch 28/60\n",
            "5041/5041 [==============================] - 24s 5ms/step - loss: 2.8631 - accuracy: 0.2412\n",
            "Epoch 29/60\n",
            "5041/5041 [==============================] - 24s 5ms/step - loss: 2.8570 - accuracy: 0.2418\n",
            "Epoch 30/60\n",
            "5041/5041 [==============================] - 23s 5ms/step - loss: 2.8559 - accuracy: 0.2424\n",
            "Epoch 31/60\n",
            "5041/5041 [==============================] - 23s 5ms/step - loss: 2.8518 - accuracy: 0.2440\n",
            "Epoch 32/60\n",
            "5041/5041 [==============================] - 24s 5ms/step - loss: 2.8490 - accuracy: 0.2436\n",
            "Epoch 33/60\n",
            "5041/5041 [==============================] - 23s 5ms/step - loss: 2.8473 - accuracy: 0.2438\n",
            "Epoch 34/60\n",
            "5041/5041 [==============================] - 23s 5ms/step - loss: 2.8461 - accuracy: 0.2442\n",
            "Epoch 35/60\n",
            "5041/5041 [==============================] - 23s 5ms/step - loss: 2.8397 - accuracy: 0.2458\n",
            "Epoch 36/60\n",
            "5041/5041 [==============================] - 24s 5ms/step - loss: 2.8394 - accuracy: 0.2450\n",
            "Epoch 37/60\n",
            "5041/5041 [==============================] - 23s 5ms/step - loss: 2.8338 - accuracy: 0.2457\n",
            "Epoch 38/60\n",
            "5041/5041 [==============================] - 23s 5ms/step - loss: 2.8380 - accuracy: 0.2458\n",
            "Epoch 39/60\n",
            "5041/5041 [==============================] - 23s 5ms/step - loss: 2.8324 - accuracy: 0.2462\n",
            "Epoch 40/60\n",
            "5041/5041 [==============================] - 24s 5ms/step - loss: 2.8297 - accuracy: 0.2470\n",
            "Epoch 41/60\n",
            "5041/5041 [==============================] - 24s 5ms/step - loss: 2.8264 - accuracy: 0.2471\n",
            "Epoch 42/60\n",
            "5041/5041 [==============================] - 23s 5ms/step - loss: 2.8271 - accuracy: 0.2474\n",
            "Epoch 43/60\n",
            "5041/5041 [==============================] - 24s 5ms/step - loss: 2.8249 - accuracy: 0.2477\n",
            "Epoch 44/60\n",
            "5041/5041 [==============================] - 24s 5ms/step - loss: 2.8224 - accuracy: 0.2484\n",
            "Epoch 45/60\n",
            "5041/5041 [==============================] - 24s 5ms/step - loss: 2.8188 - accuracy: 0.2482\n",
            "Epoch 46/60\n",
            "5041/5041 [==============================] - 24s 5ms/step - loss: 2.8174 - accuracy: 0.2490\n",
            "Epoch 47/60\n",
            "5041/5041 [==============================] - 24s 5ms/step - loss: 2.8160 - accuracy: 0.2494\n",
            "Epoch 48/60\n",
            "5041/5041 [==============================] - 24s 5ms/step - loss: 2.8172 - accuracy: 0.2491\n",
            "Epoch 49/60\n",
            "5041/5041 [==============================] - 24s 5ms/step - loss: 2.8109 - accuracy: 0.2503\n",
            "Epoch 50/60\n",
            "5041/5041 [==============================] - 24s 5ms/step - loss: 2.8077 - accuracy: 0.2509\n",
            "Epoch 51/60\n",
            "5041/5041 [==============================] - 24s 5ms/step - loss: 2.8080 - accuracy: 0.2505\n",
            "Epoch 52/60\n",
            "5041/5041 [==============================] - 24s 5ms/step - loss: 2.8077 - accuracy: 0.2516\n",
            "Epoch 53/60\n",
            "5041/5041 [==============================] - 24s 5ms/step - loss: 2.8092 - accuracy: 0.2505\n",
            "Epoch 54/60\n",
            "5041/5041 [==============================] - 24s 5ms/step - loss: 2.8071 - accuracy: 0.2506\n",
            "Epoch 55/60\n",
            "5041/5041 [==============================] - 24s 5ms/step - loss: 2.8089 - accuracy: 0.2501\n",
            "Epoch 56/60\n",
            "5041/5041 [==============================] - 24s 5ms/step - loss: 2.7999 - accuracy: 0.2510\n",
            "Epoch 57/60\n",
            "5041/5041 [==============================] - 24s 5ms/step - loss: 2.8023 - accuracy: 0.2518\n",
            "Epoch 58/60\n",
            "5041/5041 [==============================] - 24s 5ms/step - loss: 2.8026 - accuracy: 0.2510\n",
            "Epoch 59/60\n",
            "5041/5041 [==============================] - 24s 5ms/step - loss: 2.7982 - accuracy: 0.2519\n",
            "Epoch 60/60\n",
            "5041/5041 [==============================] - 24s 5ms/step - loss: 2.7980 - accuracy: 0.2532\n"
          ],
          "name": "stdout"
        },
        {
          "output_type": "execute_result",
          "data": {
            "text/plain": [
              "<tensorflow.python.keras.callbacks.History at 0x7f5f1de6e710>"
            ]
          },
          "metadata": {
            "tags": []
          },
          "execution_count": 28
        }
      ]
    },
    {
      "cell_type": "code",
      "metadata": {
        "colab": {
          "base_uri": "https://localhost:8080/"
        },
        "id": "H5yUTPA-C2vS",
        "outputId": "42ac2724-629b-40be-d2f2-6ebdae9cab53"
      },
      "source": [
        "model.evaluate(X_test_to, y_test_to, batch_size = 128)"
      ],
      "execution_count": 29,
      "outputs": [
        {
          "output_type": "stream",
          "text": [
            "1261/1261 [==============================] - 4s 3ms/step - loss: 2.6837 - accuracy: 0.2722\n"
          ],
          "name": "stdout"
        },
        {
          "output_type": "execute_result",
          "data": {
            "text/plain": [
              "[2.6836605072021484, 0.2722448408603668]"
            ]
          },
          "metadata": {
            "tags": []
          },
          "execution_count": 29
        }
      ]
    },
    {
      "cell_type": "code",
      "metadata": {
        "id": "ZQyb6R1pN_lB"
      },
      "source": [
        ""
      ],
      "execution_count": null,
      "outputs": []
    }
  ]
}